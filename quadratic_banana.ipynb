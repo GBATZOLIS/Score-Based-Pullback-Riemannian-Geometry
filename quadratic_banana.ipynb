{
 "cells": [
  {
   "cell_type": "code",
   "execution_count": null,
   "metadata": {},
   "outputs": [
    {
     "ename": "",
     "evalue": "",
     "output_type": "error",
     "traceback": [
      "\u001b[1;31mThe kernel failed to start as 'only' could not be imported from 'unknown location'.\n",
      "\u001b[1;31mClick <a href='https://aka.ms/kernelFailuresModuleImportErrFromFile'>here</a> for more info."
     ]
    }
   ],
   "source": [
    "import torch\n",
    "import matplotlib.pyplot as plt\n",
    "\n",
    "from src.manifolds.deformed_gaussian_pullback_manifold.quadratic_banana_pullback_manifold import QuadraticBananaPullbackManifold\n",
    "from src.riemannian_autoencoder.deformed_gaussian_riemannian_autoencoder import DeformedGaussianRiemannianAutoencoder"
   ]
  },
  {
   "cell_type": "code",
   "execution_count": null,
   "metadata": {},
   "outputs": [
    {
     "ename": "",
     "evalue": "",
     "output_type": "error",
     "traceback": [
      "\u001b[1;31mThe kernel failed to start as 'only' could not be imported from 'unknown location'.\n",
      "\u001b[1;31mClick <a href='https://aka.ms/kernelFailuresModuleImportErrFromFile'>here</a> for more info."
     ]
    }
   ],
   "source": [
    "banana_manifold = QuadraticBananaPullbackManifold()\n",
    "\n",
    "xx = torch.linspace(-6.0, 6.0, 100)\n",
    "yy = torch.linspace(-6.0, 6.0, 100)\n",
    "x_grid, y_grid = torch.meshgrid(xx, yy)\n",
    "\n",
    "xy_grid = torch.zeros((*x_grid.shape,2))\n",
    "xy_grid[:,:,0] = x_grid\n",
    "xy_grid[:,:,1] = y_grid\n",
    "\n",
    "density_banana = torch.exp(banana_manifold.dg.log_density(xy_grid.reshape(-1,2)).reshape(x_grid.shape))\n",
    "plt.contour(x_grid, y_grid, density_banana)\n",
    "plt.show()"
   ]
  },
  {
   "cell_type": "code",
   "execution_count": null,
   "metadata": {},
   "outputs": [
    {
     "ename": "",
     "evalue": "",
     "output_type": "error",
     "traceback": [
      "\u001b[1;31mThe kernel failed to start as 'only' could not be imported from 'unknown location'.\n",
      "\u001b[1;31mClick <a href='https://aka.ms/kernelFailuresModuleImportErrFromFile'>here</a> for more info."
     ]
    }
   ],
   "source": [
    "# special points\n",
    "x0 = torch.tensor([2.,4.])\n",
    "x1 = torch.tensor([2.,-4.])"
   ]
  },
  {
   "cell_type": "code",
   "execution_count": null,
   "metadata": {},
   "outputs": [
    {
     "ename": "",
     "evalue": "",
     "output_type": "error",
     "traceback": [
      "\u001b[1;31mThe kernel failed to start as 'only' could not be imported from 'unknown location'.\n",
      "\u001b[1;31mClick <a href='https://aka.ms/kernelFailuresModuleImportErrFromFile'>here</a> for more info."
     ]
    }
   ],
   "source": [
    "# test barycentre\n",
    "x=torch.zeros((2,2))\n",
    "x[0] = x0\n",
    "x[1] = x1\n",
    "\n",
    "barycentre = banana_manifold.barycentre(x)\n",
    "\n",
    "plt.contour(x_grid, y_grid, density_banana)\n",
    "plt.scatter(torch.tensor([x0[0], x1[0]]), torch.tensor([x0[1], x1[1]]))\n",
    "plt.scatter(barycentre[0], barycentre[1], color=\"orange\")\n",
    "plt.savefig(\"results/quadratic_banana/barycentre.eps\")\n",
    "plt.show()"
   ]
  },
  {
   "cell_type": "code",
   "execution_count": null,
   "metadata": {},
   "outputs": [
    {
     "ename": "",
     "evalue": "",
     "output_type": "error",
     "traceback": [
      "\u001b[1;31mThe kernel failed to start as 'only' could not be imported from 'unknown location'.\n",
      "\u001b[1;31mClick <a href='https://aka.ms/kernelFailuresModuleImportErrFromFile'>here</a> for more info."
     ]
    }
   ],
   "source": [
    "# test inner\n",
    "X = torch.eye(2)\n",
    "\n",
    "inner_0 = banana_manifold.inner(torch.zeros(2)[None], X[None], X[None])\n",
    "inner_x0 = banana_manifold.inner(x0[None], X[None], X[None])\n",
    "\n",
    "print(inner_0)\n",
    "print(inner_x0)"
   ]
  },
  {
   "cell_type": "code",
   "execution_count": null,
   "metadata": {},
   "outputs": [
    {
     "ename": "",
     "evalue": "",
     "output_type": "error",
     "traceback": [
      "\u001b[1;31mThe kernel failed to start as 'only' could not be imported from 'unknown location'.\n",
      "\u001b[1;31mClick <a href='https://aka.ms/kernelFailuresModuleImportErrFromFile'>here</a> for more info."
     ]
    }
   ],
   "source": [
    "# test interpolation\n",
    "t = torch.linspace(0.,1.,100)\n",
    "\n",
    "\n",
    "geodesic = banana_manifold.geodesic(x0,x1,t)\n",
    "\n",
    "plt.contour(x_grid, y_grid, density_banana)\n",
    "plt.plot(geodesic[:,0], geodesic[:,1], color=\"orange\")\n",
    "plt.scatter(torch.tensor([x0[0], x1[0]]), torch.tensor([x0[1], x1[1]]))\n",
    "plt.savefig(\"results/quadratic_banana/geodesic.eps\")\n",
    "plt.show()"
   ]
  },
  {
   "cell_type": "code",
   "execution_count": null,
   "metadata": {},
   "outputs": [
    {
     "ename": "",
     "evalue": "",
     "output_type": "error",
     "traceback": [
      "\u001b[1;31mThe kernel failed to start as 'only' could not be imported from 'unknown location'.\n",
      "\u001b[1;31mClick <a href='https://aka.ms/kernelFailuresModuleImportErrFromFile'>here</a> for more info."
     ]
    }
   ],
   "source": [
    "# test logarithmic mapping\n",
    "logarithmic = banana_manifold.log(x0,x1[None])[0]\n",
    "\n",
    "plt.contour(x_grid, y_grid, density_banana)\n",
    "plt.arrow(x0[0], x0[1], logarithmic[0], logarithmic[1], head_width=0.2, color=\"orange\")\n",
    "plt.scatter(torch.tensor([x0[0], x1[0]]), torch.tensor([x0[1], x1[1]]))\n",
    "plt.savefig(\"results/quadratic_banana/logarithmic.eps\")\n",
    "plt.show()"
   ]
  },
  {
   "cell_type": "code",
   "execution_count": null,
   "metadata": {},
   "outputs": [
    {
     "ename": "",
     "evalue": "",
     "output_type": "error",
     "traceback": [
      "\u001b[1;31mThe kernel failed to start as 'only' could not be imported from 'unknown location'.\n",
      "\u001b[1;31mClick <a href='https://aka.ms/kernelFailuresModuleImportErrFromFile'>here</a> for more info."
     ]
    }
   ],
   "source": [
    "# test exponential mapping\n",
    "exponential = banana_manifold.exp(x0,logarithmic[None])[0]\n",
    "\n",
    "plt.contour(x_grid, y_grid, density_banana)\n",
    "plt.scatter(x0[0], x0[1])\n",
    "plt.arrow(x0[0], x0[1], logarithmic[0], logarithmic[1], head_width=0.2)\n",
    "plt.scatter(exponential[0], exponential[1], color=\"orange\")\n",
    "plt.savefig(\"results/quadratic_banana/exponential.eps\")\n",
    "plt.show()\n",
    "print(f\"The error between exp_x0(log_x0 (x1)) and x1 is {torch.norm(exponential - x1)}\")"
   ]
  },
  {
   "cell_type": "code",
   "execution_count": null,
   "metadata": {},
   "outputs": [
    {
     "ename": "",
     "evalue": "",
     "output_type": "error",
     "traceback": [
      "\u001b[1;31mThe kernel failed to start as 'only' could not be imported from 'unknown location'.\n",
      "\u001b[1;31mClick <a href='https://aka.ms/kernelFailuresModuleImportErrFromFile'>here</a> for more info."
     ]
    }
   ],
   "source": [
    "# test distance\n",
    "l2_distance = torch.norm(x0 - x1)\n",
    "distance = banana_manifold.distance(x0[None,None], x1[None,None])[0,0,0]\n",
    "print(l2_distance)\n",
    "print(distance)"
   ]
  },
  {
   "cell_type": "code",
   "execution_count": null,
   "metadata": {},
   "outputs": [
    {
     "ename": "",
     "evalue": "",
     "output_type": "error",
     "traceback": [
      "\u001b[1;31mThe kernel failed to start as 'only' could not be imported from 'unknown location'.\n",
      "\u001b[1;31mClick <a href='https://aka.ms/kernelFailuresModuleImportErrFromFile'>here</a> for more info."
     ]
    }
   ],
   "source": [
    "# test parallel transport\n",
    "parallel_transport = banana_manifold.parallel_transport(x0, logarithmic[None], x1)[0]\n",
    "\n",
    "plt.contour(x_grid, y_grid, density_banana)\n",
    "plt.scatter(torch.tensor([x0[0], x1[0]]), torch.tensor([x0[1], x1[1]]))\n",
    "plt.arrow(x0[0], x0[1], logarithmic[0], logarithmic[1], head_width=0.2)\n",
    "plt.arrow(x1[0], x1[1], parallel_transport[0], parallel_transport[1], head_width=0.2, color=\"orange\")\n",
    "plt.savefig(\"results/quadratic_banana/parallel-transport.eps\")\n",
    "plt.show()\n"
   ]
  },
  {
   "cell_type": "code",
   "execution_count": null,
   "metadata": {},
   "outputs": [
    {
     "ename": "",
     "evalue": "",
     "output_type": "error",
     "traceback": [
      "\u001b[1;31mThe kernel failed to start as 'only' could not be imported from 'unknown location'.\n",
      "\u001b[1;31mClick <a href='https://aka.ms/kernelFailuresModuleImportErrFromFile'>here</a> for more info."
     ]
    }
   ],
   "source": [
    "# Riemannian autoencoder\n",
    "epsilon = 0.1\n",
    "banana_rae = DeformedGaussianRiemannianAutoencoder(banana_manifold, epsilon)\n",
    "\n",
    "p = torch.linspace(-5, 5, 100)[:,None]\n",
    "rae_decode_p = banana_rae.decode(p)\n",
    "\n",
    "plt.contour(x_grid, y_grid, density_banana)\n",
    "plt.plot(rae_decode_p[:,0], rae_decode_p[:,1], color=\"orange\")\n",
    "plt.savefig(\"results/quadratic_banana/rae_manifold.eps\")\n",
    "plt.show()"
   ]
  }
 ],
 "metadata": {
  "kernelspec": {
   "display_name": ".venv",
   "language": "python",
   "name": "python3"
  },
  "language_info": {
   "codemirror_mode": {
    "name": "ipython",
    "version": 3
   },
   "file_extension": ".py",
   "mimetype": "text/x-python",
   "name": "python",
   "nbconvert_exporter": "python",
   "pygments_lexer": "ipython3",
   "version": "3.8.7"
  }
 },
 "nbformat": 4,
 "nbformat_minor": 2
}
